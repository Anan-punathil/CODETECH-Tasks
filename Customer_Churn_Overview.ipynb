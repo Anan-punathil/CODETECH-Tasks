{
  "nbformat": 4,
  "nbformat_minor": 0,
  "metadata": {
    "colab": {
      "provenance": [],
      "authorship_tag": "ABX9TyPDOE7sD+OYmZ6wpd4pz60U",
      "include_colab_link": true
    },
    "kernelspec": {
      "name": "python3",
      "display_name": "Python 3"
    },
    "language_info": {
      "name": "python"
    }
  },
  "cells": [
    {
      "cell_type": "markdown",
      "metadata": {
        "id": "view-in-github",
        "colab_type": "text"
      },
      "source": [
        "<a href=\"https://colab.research.google.com/github/Anan-punathil/CODETECH-Tasks/blob/main/Customer_Churn_Overview.ipynb\" target=\"_parent\"><img src=\"https://colab.research.google.com/assets/colab-badge.svg\" alt=\"Open In Colab\"/></a>"
      ]
    },
    {
      "cell_type": "markdown",
      "source": [
        "# **Customer Churn Prediction Overview**\n",
        "\n",
        "\n",
        "\n",
        "\n",
        "This project aims to build a machine learning model to predict customer churn, helping businesses identify customers likely to leave and take proactive retention measures.\n",
        "\n",
        "# Dataset\n",
        "The dataset contains customer information, including service usage details, call durations, and account-related features. The target variable is \"Churn,\" which indicates whether a customer has left the service.\n",
        "\n",
        "# Approach\n",
        "The project involves data exploration, cleaning, feature engineering, and training various machine learning models to predict customer churn. The best model is selected based on performance metrics.\n",
        "\n",
        "# Feature Engineering\n",
        "* Encoding: Categorical features like the \"International Plan\" and \"Voice Mail Plan\" were converted into numerical values for model training.\n",
        "\n",
        "* Handling Imbalance: The dataset had an imbalance in churn cases, which was addressed using Random Oversampling (ROS) to balance the data.\n",
        "\n",
        "* New Features: Additional features such as Total Usage (sum of day, evening, night, and international minutes) were created to provide better insights.\n",
        "\n",
        "# Model Development\n",
        "Several machine learning models were trained and evaluated for churn prediction:\n",
        "\n",
        "* Logistic Regression\n",
        "\n",
        "* Decision Tree\n",
        "\n",
        "* Random Forest\n",
        "\n",
        "* Gradient Boosting\n",
        "\n",
        "# Model Evaluation\n",
        "Models were evaluated using accuracy and AUROC scores. Random Forest performed best, achieving high accuracy in distinguishing churned customers from non-churned ones.\n",
        "\n",
        "# Conclusion\n",
        "Based on feature importance, key factors influencing churn were:\n",
        "\n",
        "* Total Usage: Higher usage patterns indicate customer engagement.\n",
        "\n",
        "* Customer Service Calls: A higher number of service calls often correlates with churn.\n",
        "\n",
        "* International Plan: Customers with international plans may have different retention patterns.\n",
        "\n",
        "# Dashboard & Visualization\n",
        "A Power BI Dashboard was created to visualize churn distribution, customer trends, and feature impact using pie charts, bar charts, scatter plots, and funnel analysis.\n",
        "\n",
        "# Contact\n",
        "For inquiries or suggestions, feel free to contact me at [ananp5666@gmail.com]."
      ],
      "metadata": {
        "id": "H5fQ0qNurghV"
      }
    },
    {
      "cell_type": "code",
      "source": [],
      "metadata": {
        "id": "eEGizv82tAmc"
      },
      "execution_count": null,
      "outputs": []
    }
  ]
}